{
 "cells": [
  {
   "cell_type": "markdown",
   "id": "95182db7-2581-4655-89b0-b73461b66024",
   "metadata": {},
   "source": [
    "**Basic Python**\n",
    "\n",
    "**1. Split this string**"
   ]
  },
  {
   "cell_type": "code",
   "execution_count": 1,
   "id": "1cd17cfa-09d0-453d-9709-8e7d9776c5ff",
   "metadata": {},
   "outputs": [],
   "source": [
    "s = \"Hi there Sam!\""
   ]
  },
  {
   "cell_type": "code",
   "execution_count": 2,
   "id": "079ce31c-b139-4bbd-b70b-ba63fd0cee57",
   "metadata": {},
   "outputs": [
    {
     "data": {
      "text/plain": [
       "['Hi', 'there', 'Sam!']"
      ]
     },
     "execution_count": 2,
     "metadata": {},
     "output_type": "execute_result"
    }
   ],
   "source": [
    "s.split()"
   ]
  },
  {
   "cell_type": "markdown",
   "id": "697dab70-f737-4b08-9cb2-67ea286e9cd6",
   "metadata": {},
   "source": [
    "**2. Use .format() to print the following string.**\n",
    "\n",
    "**Output should be: The diameter of Earth is 12742 kilometers.**"
   ]
  },
  {
   "cell_type": "code",
   "execution_count": 4,
   "id": "5662b9a3-5fdb-499e-9840-b7ed3d729e7d",
   "metadata": {},
   "outputs": [],
   "source": [
    "planet = \"Earth\"\n",
    "diameter = 12742"
   ]
  },
  {
   "cell_type": "code",
   "execution_count": 5,
   "id": "07f11282-f07e-47b5-8d58-4944cdf004ee",
   "metadata": {},
   "outputs": [
    {
     "name": "stdout",
     "output_type": "stream",
     "text": [
      "The diameter of Earth is 12742 kilometers.\n"
     ]
    }
   ],
   "source": [
    "planet = \"Earth\"\n",
    "diameter = 12742\n",
    "print('The diameter of {} is {} kilometers.'.format(planet,diameter));"
   ]
  },
  {
   "cell_type": "markdown",
   "id": "9863e1af-d80a-4d67-937a-28ee6162b1c5",
   "metadata": {},
   "source": [
    "**3. In this nest dictionary grab the word \"hello\"**"
   ]
  },
  {
   "cell_type": "code",
   "execution_count": 6,
   "id": "5b1734d5-fd32-4736-a6e2-9f936aa0439d",
   "metadata": {},
   "outputs": [],
   "source": [
    "d = {'k1':[1,2,3,{'tricky':['oh','man','inception',{'target':[1,2,3,'hello']}]}]}"
   ]
  },
  {
   "cell_type": "code",
   "execution_count": 7,
   "id": "89faf3e9-aa2d-4687-af4a-10cfb7c22471",
   "metadata": {},
   "outputs": [
    {
     "name": "stdout",
     "output_type": "stream",
     "text": [
      "hello\n"
     ]
    }
   ],
   "source": [
    "d = {'k1':[1,2,3,{'tricky':['oh','man','inception',{'target':[1,2,3,'hello']}]}]}\n",
    "print(d['k1'][3][\"tricky\"][3]['target'][3])"
   ]
  },
  {
   "cell_type": "markdown",
   "id": "6746ddd5-efff-4b06-beb4-ced035a3836f",
   "metadata": {},
   "source": [
    "**Numpy**"
   ]
  },
  {
   "cell_type": "code",
   "execution_count": 8,
   "id": "a67d49cc-3c68-492f-905f-2d4d5e32d8ca",
   "metadata": {},
   "outputs": [],
   "source": [
    "import numpy as np"
   ]
  },
  {
   "cell_type": "markdown",
   "id": "541198db-d289-4427-9812-47451239ee63",
   "metadata": {},
   "source": [
    "**4.1 Create an array of 10 zeros?**\n",
    "\n",
    "**4.2 Create an array of 10 fives?**"
   ]
  },
  {
   "cell_type": "code",
   "execution_count": 9,
   "id": "39f8f4bb-a85e-4bdd-a275-4291ce7f852c",
   "metadata": {},
   "outputs": [
    {
     "data": {
      "text/plain": [
       "array([0., 0., 0., 0., 0., 0., 0., 0., 0., 0.])"
      ]
     },
     "execution_count": 9,
     "metadata": {},
     "output_type": "execute_result"
    }
   ],
   "source": [
    "array=np.zeros(10)\n",
    "array"
   ]
  },
  {
   "cell_type": "code",
   "execution_count": 10,
   "id": "08115834-bf75-4212-8766-a31f17cea621",
   "metadata": {},
   "outputs": [
    {
     "data": {
      "text/plain": [
       "array([5., 5., 5., 5., 5., 5., 5., 5., 5., 5.])"
      ]
     },
     "execution_count": 10,
     "metadata": {},
     "output_type": "execute_result"
    }
   ],
   "source": [
    "array=np.ones(10)*5\n",
    "array"
   ]
  },
  {
   "cell_type": "markdown",
   "id": "5630170b-07a8-4e1b-82fa-bd6ba2785860",
   "metadata": {},
   "source": [
    "**5. Create an array of all the even integers from 20 to 35**"
   ]
  },
  {
   "cell_type": "code",
   "execution_count": 11,
   "id": "778f4c96-5f90-4f4f-8222-72ca97f349a8",
   "metadata": {},
   "outputs": [
    {
     "data": {
      "text/plain": [
       "array([20, 22, 24, 26, 28, 30, 32, 34])"
      ]
     },
     "execution_count": 11,
     "metadata": {},
     "output_type": "execute_result"
    }
   ],
   "source": [
    "array=np.arange(20,35,2)\n",
    "array"
   ]
  },
  {
   "cell_type": "markdown",
   "id": "01bac479-2504-4e18-bcd5-0fd88d8a53e7",
   "metadata": {},
   "source": [
    "**6. Create a 3x3 matrix with values ranging from 0 to 8**"
   ]
  },
  {
   "cell_type": "code",
   "execution_count": 12,
   "id": "a791904b-52af-466e-b1ce-5924ea8e4c20",
   "metadata": {},
   "outputs": [
    {
     "data": {
      "text/plain": [
       "array([[0, 1, 2],\n",
       "       [3, 4, 5],\n",
       "       [6, 7, 8]])"
      ]
     },
     "execution_count": 12,
     "metadata": {},
     "output_type": "execute_result"
    }
   ],
   "source": [
    "matrix=np.arange(0,9).reshape(3,3)\n",
    "matrix"
   ]
  },
  {
   "cell_type": "markdown",
   "id": "dd656566-3413-40f2-b945-bf15a4e49440",
   "metadata": {},
   "source": [
    "**7. Concatenate a and b**\n",
    "\n",
    "**a = np.array([1, 2, 3]), b = np.array([4, 5, 6])**"
   ]
  },
  {
   "cell_type": "code",
   "execution_count": 14,
   "id": "053acabb-ffef-4b11-9ad2-ba45a61127ec",
   "metadata": {},
   "outputs": [
    {
     "data": {
      "text/plain": [
       "array([1, 2, 3, 4, 5, 6])"
      ]
     },
     "execution_count": 14,
     "metadata": {},
     "output_type": "execute_result"
    }
   ],
   "source": [
    "a = np.array([1, 2, 3]) \n",
    "b = np.array([4, 5, 6])\n",
    "ab=np.concatenate((a,b),axis=0)\n",
    "ab"
   ]
  },
  {
   "cell_type": "markdown",
   "id": "7b75a596-31a4-4e80-a858-80194dbafdd2",
   "metadata": {},
   "source": [
    "**Pandas**\n",
    "\n",
    "**8. Create a dataframe with 3 rows and 2 columns**"
   ]
  },
  {
   "cell_type": "code",
   "execution_count": 16,
   "id": "54181166-a963-4fbb-b416-81647a8d44b8",
   "metadata": {},
   "outputs": [],
   "source": [
    "import pandas as pd"
   ]
  },
  {
   "cell_type": "code",
   "execution_count": 17,
   "id": "f00e890d-7cfb-4d9a-854e-3e63f66b0d35",
   "metadata": {},
   "outputs": [
    {
     "data": {
      "text/html": [
       "<div>\n",
       "<style scoped>\n",
       "    .dataframe tbody tr th:only-of-type {\n",
       "        vertical-align: middle;\n",
       "    }\n",
       "\n",
       "    .dataframe tbody tr th {\n",
       "        vertical-align: top;\n",
       "    }\n",
       "\n",
       "    .dataframe thead th {\n",
       "        text-align: right;\n",
       "    }\n",
       "</style>\n",
       "<table border=\"1\" class=\"dataframe\">\n",
       "  <thead>\n",
       "    <tr style=\"text-align: right;\">\n",
       "      <th></th>\n",
       "      <th>Name</th>\n",
       "      <th>Age</th>\n",
       "    </tr>\n",
       "  </thead>\n",
       "  <tbody>\n",
       "    <tr>\n",
       "      <th>0</th>\n",
       "      <td>abu</td>\n",
       "      <td>20</td>\n",
       "    </tr>\n",
       "    <tr>\n",
       "      <th>1</th>\n",
       "      <td>gopi</td>\n",
       "      <td>21</td>\n",
       "    </tr>\n",
       "    <tr>\n",
       "      <th>2</th>\n",
       "      <td>jai</td>\n",
       "      <td>22</td>\n",
       "    </tr>\n",
       "  </tbody>\n",
       "</table>\n",
       "</div>"
      ],
      "text/plain": [
       "   Name  Age\n",
       "0   abu   20\n",
       "1  gopi   21\n",
       "2   jai   22"
      ]
     },
     "execution_count": 17,
     "metadata": {},
     "output_type": "execute_result"
    }
   ],
   "source": [
    "data = [['abu', 20], ['gopi', 21], ['jai', 22]]\n",
    "df = pd.DataFrame(data, columns=['Name', 'Age'])\n",
    "df"
   ]
  },
  {
   "cell_type": "markdown",
   "id": "65a79de5-0e5b-42cc-a73d-2c71bcb4dbd5",
   "metadata": {},
   "source": [
    "**9. Generate the series of dates from 1st Jan, 2023 to 10th Feb, 2023**"
   ]
  },
  {
   "cell_type": "code",
   "execution_count": 18,
   "id": "5da313f3-72e3-46eb-8eb0-cd1d49e99050",
   "metadata": {},
   "outputs": [
    {
     "name": "stdout",
     "output_type": "stream",
     "text": [
      "2023-01-01 00:00:00\n",
      "2023-01-02 00:00:00\n",
      "2023-01-03 00:00:00\n",
      "2023-01-04 00:00:00\n",
      "2023-01-05 00:00:00\n",
      "2023-01-06 00:00:00\n",
      "2023-01-07 00:00:00\n",
      "2023-01-08 00:00:00\n",
      "2023-01-09 00:00:00\n",
      "2023-01-10 00:00:00\n",
      "2023-01-11 00:00:00\n",
      "2023-01-12 00:00:00\n",
      "2023-01-13 00:00:00\n",
      "2023-01-14 00:00:00\n",
      "2023-01-15 00:00:00\n",
      "2023-01-16 00:00:00\n",
      "2023-01-17 00:00:00\n",
      "2023-01-18 00:00:00\n",
      "2023-01-19 00:00:00\n",
      "2023-01-20 00:00:00\n",
      "2023-01-21 00:00:00\n",
      "2023-01-22 00:00:00\n",
      "2023-01-23 00:00:00\n",
      "2023-01-24 00:00:00\n",
      "2023-01-25 00:00:00\n",
      "2023-01-26 00:00:00\n",
      "2023-01-27 00:00:00\n",
      "2023-01-28 00:00:00\n",
      "2023-01-29 00:00:00\n",
      "2023-01-30 00:00:00\n",
      "2023-01-31 00:00:00\n",
      "2023-02-01 00:00:00\n",
      "2023-02-02 00:00:00\n",
      "2023-02-03 00:00:00\n",
      "2023-02-04 00:00:00\n",
      "2023-02-05 00:00:00\n",
      "2023-02-06 00:00:00\n",
      "2023-02-07 00:00:00\n",
      "2023-02-08 00:00:00\n",
      "2023-02-09 00:00:00\n",
      "2023-02-10 00:00:00\n"
     ]
    }
   ],
   "source": [
    "per1 = pd.date_range(start ='01-01-2023', \n",
    "         end ='02-10-2023' )\n",
    "  \n",
    "for val in per1:\n",
    "  print(val)"
   ]
  },
  {
   "cell_type": "code",
   "execution_count": null,
   "id": "5a2a2f2c-9879-4872-bdf7-504df362f64f",
   "metadata": {},
   "outputs": [],
   "source": []
  }
 ],
 "metadata": {
  "kernelspec": {
   "display_name": "Python 3 (ipykernel)",
   "language": "python",
   "name": "python3"
  },
  "language_info": {
   "codemirror_mode": {
    "name": "ipython",
    "version": 3
   },
   "file_extension": ".py",
   "mimetype": "text/x-python",
   "name": "python",
   "nbconvert_exporter": "python",
   "pygments_lexer": "ipython3",
   "version": "3.9.12"
  }
 },
 "nbformat": 4,
 "nbformat_minor": 5
}
